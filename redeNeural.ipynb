{
 "cells": [
  {
   "cell_type": "code",
   "execution_count": 8,
   "metadata": {},
   "outputs": [],
   "source": [
    "import torch\n",
    "import torch.nn as nn\n",
    "import torch.nn.functional as F\n",
    "import torch.optim as optim\n",
    "from torch.autograd import Variable\n",
    "\n",
    "import pandas as pd\n",
    "\n",
    "from sklearn.model_selection import train_test_split, ShuffleSplit\n",
    "from sklearn.preprocessing import MinMaxScaler\n",
    "import numpy as np"
   ]
  },
  {
   "cell_type": "code",
   "execution_count": null,
   "metadata": {},
   "outputs": [],
   "source": []
  },
  {
   "cell_type": "code",
   "execution_count": 11,
   "metadata": {},
   "outputs": [
    {
     "data": {
      "text/html": [
       "<div>\n",
       "<style scoped>\n",
       "    .dataframe tbody tr th:only-of-type {\n",
       "        vertical-align: middle;\n",
       "    }\n",
       "\n",
       "    .dataframe tbody tr th {\n",
       "        vertical-align: top;\n",
       "    }\n",
       "\n",
       "    .dataframe thead th {\n",
       "        text-align: right;\n",
       "    }\n",
       "</style>\n",
       "<table border=\"1\" class=\"dataframe\">\n",
       "  <thead>\n",
       "    <tr style=\"text-align: right;\">\n",
       "      <th></th>\n",
       "      <th>RSSI</th>\n",
       "      <th>distancia</th>\n",
       "    </tr>\n",
       "  </thead>\n",
       "  <tbody>\n",
       "    <tr>\n",
       "      <th>0</th>\n",
       "      <td>-43</td>\n",
       "      <td>0,5</td>\n",
       "    </tr>\n",
       "    <tr>\n",
       "      <th>1</th>\n",
       "      <td>-47</td>\n",
       "      <td>0,5</td>\n",
       "    </tr>\n",
       "    <tr>\n",
       "      <th>2</th>\n",
       "      <td>-47</td>\n",
       "      <td>0,5</td>\n",
       "    </tr>\n",
       "    <tr>\n",
       "      <th>3</th>\n",
       "      <td>-46</td>\n",
       "      <td>0,5</td>\n",
       "    </tr>\n",
       "    <tr>\n",
       "      <th>4</th>\n",
       "      <td>-45</td>\n",
       "      <td>0,5</td>\n",
       "    </tr>\n",
       "  </tbody>\n",
       "</table>\n",
       "</div>"
      ],
      "text/plain": [
       "   RSSI distancia\n",
       "0   -43       0,5\n",
       "1   -47       0,5\n",
       "2   -47       0,5\n",
       "3   -46       0,5\n",
       "4   -45       0,5"
      ]
     },
     "execution_count": 11,
     "metadata": {},
     "output_type": "execute_result"
    }
   ],
   "source": [
    "# lendo dataset\n",
    "df = pd.read_csv('DataSet1.csv')\n",
    "df.head()"
   ]
  },
  {
   "cell_type": "code",
   "execution_count": null,
   "metadata": {},
   "outputs": [],
   "source": [
    "# normalizacao dos dados\n",
    "# dfNormalizado = minMax\n",
    "scaler = MinMaxScaler(feature_range=(-1, 1))\n",
    "dfNormalizado = scaler.fit_transform(df).tolist()"
   ]
  },
  {
   "cell_type": "code",
   "execution_count": 15,
   "metadata": {},
   "outputs": [],
   "source": [
    "# separacao dataset\n",
    "\n",
    "train, test = train_test_split(dfNormalizado, test_size=0.15, shuffle=True)\n",
    "train, val = train_test_split(train, test_size=0.18, shuffle=True)"
   ]
  },
  {
   "cell_type": "code",
   "execution_count": 16,
   "metadata": {},
   "outputs": [],
   "source": [
    "# a função unstitch separa os atributos da label\n",
    "def unstitch(data):\n",
    "    df = pd.DataFrame(data)\n",
    "    return df[0].values.tolist(), df[1].values.tolist()"
   ]
  },
  {
   "cell_type": "code",
   "execution_count": 3,
   "metadata": {},
   "outputs": [],
   "source": [
    "class Net(nn.Module):\n",
    "    def __init__(self):\n",
    "        super(Net, self).__init__()\n",
    "        self.layers = nn.Sequential(\n",
    "            nn.Linear(10, 20),\n",
    "            nn.ReLU(),\n",
    "            nn.Linear(20, 20),\n",
    "            nn.ReLU(),\n",
    "            nn.Linear(20, 1)\n",
    "        )\n",
    "# sigmoid ou relu ou tanh\n",
    "                \n",
    "\n",
    "        #a função de loss utilizada é MSE\n",
    "        self.criterion = nn.MSELoss()\n",
    "        # #o otimizador selecionado foi SGD\n",
    "        self.optimizer = optim.SGD(self.parameters(), lr=learning_rate)\n",
    "   \n",
    "   \n",
    "    def forward(self, x):\n",
    "        # função de foward\n",
    "        return self.layers(x)\n",
    "    \n",
    "    \n",
    "    \n",
    "    \n",
    "    def loss(self, loss_set):\n",
    "        #a função de loss é definida\n",
    "        inputs, labels = unstitch(loss_set)\n",
    "        inputs = Variable(torch.IntTensor(inputs))\n",
    "        labels = Variable(torch.FloatTensor(labels))\n",
    "        result = self(inputs)\n",
    "        loss = self.criterion(result, torch.max(labels, 1)[1])\n",
    "\n",
    "        return float(loss.item())\n",
    "    \n",
    "\n",
    "    def accuracy(self, acc_set):\n",
    "        #definição do cálculo da acurácia\n",
    "        inputs, labels = unstitch(acc_set)\n",
    "        result = self(Variable(torch.FloatTensor(inputs)))\n",
    "        inputs_max = np.argmax(result.detach().cpu().numpy(), axis=1)\n",
    "        labels_max = np.argmax(np.array(labels), axis=1)\n",
    "        correct = np.sum(inputs_max == labels_max)\n",
    "\n",
    "        return correct/len(acc_set)\n",
    "\n",
    "\n",
    "    def train(self, numEpochs, train):\n",
    "        #função que realiza o treino da rede\n",
    "        #o treino inicia com a separação dos parâmetros e das labels\n",
    "        inputs, labels = unstitch(train)\n",
    "        \n",
    "        inputs = Variable(torch.IntTensor(inputs))\n",
    "        labels = Variable(torch.FloatTensor(labels))#isso tranfoma pra float os dados?\n",
    "\n",
    "        #em seguida, para cada época é realizado o forward propagation, e então o otimizador\n",
    "        #efetua o back propagation atualizando os pesos de cada neurônio\n",
    "        #os resultados de cada época são armazenados para exibição no TensorBoard\n",
    "        for epoch in range(numEpochs):\n",
    "            self.optimizer.zero_grad()\n",
    "            outputs = self(inputs)\n",
    "            self.loss = self.criterion(outputs, labels)\n",
    "            self.loss.backward()    \n",
    "            self.optimizer.step()\n",
    "\n",
    "            self.store_results(epoch, train)\n",
    "            self.print_final_train_acc(epoch, train)\n",
    "  "
   ]
  },
  {
   "cell_type": "code",
   "execution_count": 7,
   "metadata": {},
   "outputs": [
    {
     "ename": "NameError",
     "evalue": "name 'Net' is not defined",
     "output_type": "error",
     "traceback": [
      "\u001b[1;31m---------------------------------------------------------------------------\u001b[0m",
      "\u001b[1;31mNameError\u001b[0m                                 Traceback (most recent call last)",
      "\u001b[1;32m<ipython-input-7-88f42478df4c>\u001b[0m in \u001b[0;36m<module>\u001b[1;34m\u001b[0m\n\u001b[0;32m      5\u001b[0m \u001b[0mnum_epochs\u001b[0m \u001b[1;33m=\u001b[0m \u001b[1;36m5\u001b[0m\u001b[1;33m\u001b[0m\u001b[1;33m\u001b[0m\u001b[0m\n\u001b[0;32m      6\u001b[0m \u001b[1;33m\u001b[0m\u001b[0m\n\u001b[1;32m----> 7\u001b[1;33m \u001b[0mbatchNet\u001b[0m \u001b[1;33m=\u001b[0m \u001b[0mNet\u001b[0m\u001b[1;33m(\u001b[0m\u001b[1;33m)\u001b[0m\u001b[1;33m\u001b[0m\u001b[1;33m\u001b[0m\u001b[0m\n\u001b[0m\u001b[0;32m      8\u001b[0m \u001b[0mbatchNet\u001b[0m\u001b[1;33m.\u001b[0m\u001b[0mtrain\u001b[0m\u001b[1;33m(\u001b[0m\u001b[0mnum_epochs\u001b[0m\u001b[1;33m,\u001b[0m \u001b[0mtrain\u001b[0m\u001b[1;33m)\u001b[0m\u001b[1;33m\u001b[0m\u001b[1;33m\u001b[0m\u001b[0m\n\u001b[0;32m      9\u001b[0m \u001b[1;33m\u001b[0m\u001b[0m\n",
      "\u001b[1;31mNameError\u001b[0m: name 'Net' is not defined"
     ]
    }
   ],
   "source": [
    "# HYPERPARAMETROS\n",
    "\n",
    "learning_rate = 0.0001\n",
    "batch_size = 32\n",
    "num_epochs = 5\n",
    "\n",
    "batchNet = Net()\n",
    "batchNet.train(num_epochs, train)\n",
    "  \n",
    " #a acurácia de validação é exibida\n",
    "print(f\"Validation accuracy: {batchNet.accuracy(val)}\")\n",
    "# acurácia\n",
    "#para o conjunto de teste\n",
    "print(f\"Test accuracy: {batchNet.accuracy(test)}\")"
   ]
  }
 ],
 "metadata": {
  "interpreter": {
   "hash": "a063a9d6d4095dba70f7d4a438ef288e94ffec589b0525f5b20de998ec61033a"
  },
  "kernelspec": {
   "display_name": "Python 3.9.7 ('base')",
   "language": "python",
   "name": "python3"
  },
  "language_info": {
   "codemirror_mode": {
    "name": "ipython",
    "version": 3
   },
   "file_extension": ".py",
   "mimetype": "text/x-python",
   "name": "python",
   "nbconvert_exporter": "python",
   "pygments_lexer": "ipython3",
   "version": "3.9.7"
  },
  "orig_nbformat": 4
 },
 "nbformat": 4,
 "nbformat_minor": 2
}
